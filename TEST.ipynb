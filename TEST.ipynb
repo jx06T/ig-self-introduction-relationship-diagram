{
 "cells": [
  {
   "cell_type": "code",
   "execution_count": 314,
   "metadata": {},
   "outputs": [],
   "source": [
    "from typing import TypedDict\n",
    "from typing import Dict\n",
    "from typing import List\n",
    "\n",
    "\n",
    "\n",
    "class PersonDict(TypedDict):\n",
    "    level: int\n",
    "    at: List[str]\n",
    "    url: str\n",
    "    state: Dict[str, str]\n",
    "    color: str\n",
    "    size: int\n",
    "    \n",
    "AllPersonDict:Dict[str,PersonDict]"
   ]
  },
  {
   "cell_type": "code",
   "execution_count": 315,
   "metadata": {},
   "outputs": [
    {
     "name": "stdout",
     "output_type": "stream",
     "text": [
      "{\"joyliao1116\": {\"level\": 0, \"at\": [\"jiayun.art\", \"090909jjjlll\", \"fgpc47_we1lun\"], \"url\": \"https://www.instagram.com/joyliao1116/\", \"state\": {\"jiayun.art\": \"<|-|>\", \"090909jjjlll\": \"<|-|>\", \"fgpc47_we1lun\": \"-|>\"}, \"color\": \"#ffd463\", \"size\": 5600}, \"jiayun.art\": {\"level\": 1, \"at\": [\"joyliao1116\"], \"url\": \"https://www.instagram.com/jiayun.art/\", \"state\": {\"joyliao1116\": \"<|-|>\"}, \"color\": \"#c2ff6\n"
     ]
    }
   ],
   "source": [
    "import json\n",
    "\n",
    "data = None\n",
    "text_data:str = \"\"\n",
    "# with open(r'..\\output\\tfg.12121_241015_20_03.json','r')as f:\n",
    "file_name = \"ckcos16th_241015_21_18.json\"\n",
    "file_name = \"tfg.12121_241015_20_03.json\"\n",
    "file_name = \"hsnu_1644_241015_22_09.json\"\n",
    "file_name = \"joyliao1116_241015_22_19.json\"\n",
    "# file_name = \"cmgsh.zs6th_241015_19_58.json\"\n",
    "with open(f'..\\output\\{file_name}','r')as f:\n",
    "# with open(r'cccc.json','r')as f:\n",
    "    text_data = f.read()\n",
    "    print(text_data[:400])\n",
    "    data:Dict[str, PersonDict] = json.loads(text_data)\n",
    "\n",
    "    "
   ]
  },
  {
   "cell_type": "code",
   "execution_count": 316,
   "metadata": {},
   "outputs": [
    {
     "name": "stdout",
     "output_type": "stream",
     "text": [
      "19\n"
     ]
    }
   ],
   "source": [
    "print(len(data))\n"
   ]
  },
  {
   "cell_type": "code",
   "execution_count": 317,
   "metadata": {},
   "outputs": [
    {
     "name": "stdout",
     "output_type": "stream",
     "text": [
      "joyliao1116 https://www.instagram.com/joyliao1116/\n",
      "jiayun.art https://www.instagram.com/jiayun.art/\n",
      "090909jjjlll https://www.instagram.com/090909jjjlll/\n",
      "fgpc47_we1lun https://www.instagram.com/fgpc47_we1lun/\n",
      "fgpc47th https://www.instagram.com/fgpc47th/\n",
      "for_everyoung10 https://www.instagram.com/for_everyoung10/\n",
      "newjeans_official https://www.instagram.com/newjeans_official/\n",
      "dream_t0617 https://www.instagram.com/dream_t0617/\n",
      "fgpc47_cjxx https://www.instagram.com/fgpc47_cjxx/\n",
      "fgpc47_s11yn https://www.instagram.com/fgpc47_s11yn/\n",
      "fgpc47_u7ao https://www.instagram.com/fgpc47_u7ao/\n",
      "fgpc47_1ych https://www.instagram.com/fgpc47_1ych/\n",
      "fgpc47_da1in9 https://www.instagram.com/fgpc47_da1in9/\n",
      "zsgh124_zhi https://www.instagram.com/zsgh124_zhi/\n",
      "mmmia.zs https://www.instagram.com/mmmia.zs/\n",
      "rub_y0502 https://www.instagram.com/rub_y0502/\n",
      "_ling.03 https://www.instagram.com/_ling.03/\n",
      "nct_dream https://www.instagram.com/nct_dream/\n",
      "yellow_3to3 https://www.instagram.com/yellow_3to3/\n"
     ]
    }
   ],
   "source": [
    "for i in data:\n",
    "    print(i,data[i].get('url'))\n",
    "    # print(data[i])"
   ]
  },
  {
   "cell_type": "code",
   "execution_count": 318,
   "metadata": {},
   "outputs": [
    {
     "data": {
      "text/plain": [
       "19"
      ]
     },
     "execution_count": 318,
     "metadata": {},
     "output_type": "execute_result"
    }
   ],
   "source": [
    "len(data)"
   ]
  },
  {
   "cell_type": "code",
   "execution_count": 319,
   "metadata": {},
   "outputs": [
    {
     "name": "stdout",
     "output_type": "stream",
     "text": [
      "25\n"
     ]
    }
   ],
   "source": [
    "print(sum([len(data[i].get(\"at\")) for i in data]))\n",
    "# print(sum(map(lambda d: len(data[d].get(\"at\", \"\")), data)))"
   ]
  },
  {
   "cell_type": "code",
   "execution_count": 320,
   "metadata": {},
   "outputs": [
    {
     "name": "stdout",
     "output_type": "stream",
     "text": [
      "14\n",
      "11\n"
     ]
    }
   ],
   "source": [
    "print(text_data.count('\"<|-|>\"'))\n",
    "print(text_data.count('\"-|>\"'))"
   ]
  },
  {
   "cell_type": "code",
   "execution_count": 321,
   "metadata": {},
   "outputs": [
    {
     "name": "stdout",
     "output_type": "stream",
     "text": [
      "標註最多人的是: fgpc47th，他標註了 5 個人。如下\n",
      " fgpc47_cjxx, fgpc47_s11yn, fgpc47_u7ao, fgpc47_1ych, fgpc47_da1in9\n"
     ]
    }
   ],
   "source": [
    "max_key = None\n",
    "max_count = -1\n",
    "max_content = \"\"\n",
    "\n",
    "for key, person in data.items():\n",
    "    at_count = len(person[\"at\"])  # 計算 at 列表的長度\n",
    "    if at_count > max_count:\n",
    "        max_count = at_count\n",
    "        max_content = person[\"at\"]\n",
    "        max_key = key\n",
    "\n",
    "if max_key:\n",
    "    print(f\"標註最多人的是: {max_key}，他標註了 {max_count} 個人。如下\\n {(', '.join(max_content))}\")\n",
    "else:\n",
    "    print(\"找不到任何人。\")"
   ]
  },
  {
   "cell_type": "code",
   "execution_count": 322,
   "metadata": {},
   "outputs": [
    {
     "name": "stdout",
     "output_type": "stream",
     "text": [
      "被最多人標註的是: fgpc47th，他被標註 5 次。\n",
      "標註他的人有: fgpc47_we1lun, fgpc47_cjxx, fgpc47_s11yn, fgpc47_u7ao, fgpc47_1ych\n"
     ]
    }
   ],
   "source": [
    "# 記錄被提到的次數\n",
    "mention_count: Dict[str, int] = {}\n",
    "\n",
    "# 記錄提到每個人的人\n",
    "mentioned_by: Dict[str, List[str]] = {}\n",
    "\n",
    "# 遍歷每個人，更新被提到的次數\n",
    "for key, person in data.items():\n",
    "    for mentioned in person[\"at\"]:\n",
    "        if mentioned in mention_count:\n",
    "            mention_count[mentioned] += 1\n",
    "        else:\n",
    "            mention_count[mentioned] = 1\n",
    "        \n",
    "        # 記錄提到者\n",
    "        if mentioned in mentioned_by:\n",
    "            mentioned_by[mentioned].append(key)\n",
    "        else:\n",
    "            mentioned_by[mentioned] = [key]\n",
    "\n",
    "# 找到被最多人提到的人\n",
    "max_mentioned_key = None\n",
    "max_mentioned_count = -1\n",
    "\n",
    "for person, count in mention_count.items():\n",
    "    if count > max_mentioned_count:\n",
    "        max_mentioned_count = count\n",
    "        max_mentioned_key = person\n",
    "\n",
    "if max_mentioned_key:\n",
    "    mentioned_people = mentioned_by[max_mentioned_key]  # 提到此人的人\n",
    "    print(f\"被最多人標註的是: {max_mentioned_key}，他被標註 {max_mentioned_count} 次。\")\n",
    "    print(f\"標註他的人有: {', '.join(mentioned_people)}\")\n",
    "else:\n",
    "    print(\"找不到任何人。\")\n"
   ]
  },
  {
   "cell_type": "code",
   "execution_count": 323,
   "metadata": {},
   "outputs": [
    {
     "name": "stdout",
     "output_type": "stream",
     "text": [
      "共 19 筆資料,其中 2  筆資料為最後一層未統計標註狀態\n",
      "雙向標註的比例: 36.00%\n",
      "單向標註的比例: 44.00%\n",
      "每個人平均標註 1.32 個人\n",
      "每個人平均被 1.32 個人標註\n"
     ]
    }
   ],
   "source": [
    "# 記錄標註狀態\n",
    "bidirectional_count = 0\n",
    "unidirectional_count = 0\n",
    "\n",
    "# 計算每個人的標註和被標註人數\n",
    "total_mentions = 0\n",
    "total_mentioned_by = 0\n",
    "person_count = len(data)\n",
    "\n",
    "# 記錄每個人的被標註數\n",
    "mentioned_count: Dict[str, int] = {key: 0 for key in data}\n",
    "\n",
    "\n",
    "# 記錄雙向標註的集合\n",
    "bidirectional_set = set()\n",
    "\n",
    "# 遍歷每個人\n",
    "for key, person in data.items():\n",
    "    total_mentions += len(person[\"at\"])  # 標註的人數\n",
    "    for mentioned in person[\"at\"]:\n",
    "        if mentioned not in mentioned_count:\n",
    "            mentioned_count[mentioned]  = 0   \n",
    "\n",
    "        if mentioned in data:\n",
    "            total_mentioned_by += 1\n",
    "\n",
    "        # 計算每個人被標註的次數\n",
    "        mentioned_count[mentioned] += 1\n",
    "        \n",
    "        # 檢查是否是雙向標註\n",
    "        if mentioned in data and key in data[mentioned][\"at\"]:\n",
    "            bidirectional_count += 1\n",
    "            bidirectional_set.add(mentioned)  # 添加到雙向標註集合\n",
    "        else:\n",
    "            unidirectional_count += 1\n",
    "\n",
    "# 計算雙向和單向標註的比例\n",
    "total_mentions = bidirectional_count + unidirectional_count\n",
    "if total_mentions > 0:\n",
    "    bidirectional_ratio = len(bidirectional_set) / total_mentions\n",
    "    unidirectional_ratio = unidirectional_count / total_mentions\n",
    "else:\n",
    "    bidirectional_ratio = 0\n",
    "    unidirectional_ratio = 0\n",
    "\n",
    "# 計算平均標註和被標註的人數\n",
    "average_mentions_per_person = total_mentions / person_count if person_count > 0 else 0\n",
    "average_mentioned_by_per_person = total_mentioned_by / person_count if person_count > 0 else 0\n",
    "# average_mentioned_by_per_person = sum(mentioned_count.values()) / person_count if person_count > 0 else 0\n",
    "\n",
    "# 輸出結果\n",
    "min_level = max([data[d].get('level',0) for d in data])\n",
    "print(f\"共 {len(data)} 筆資料,其中 {len(['' for d in data if (data[d].get('level') == min_level)])}  筆資料為最後一層未統計標註狀態\")\n",
    "print(f\"雙向標註的比例: {bidirectional_ratio:.2%}\")\n",
    "print(f\"單向標註的比例: {unidirectional_ratio:.2%}\")\n",
    "print(f\"每個人平均標註 {average_mentions_per_person:.2f} 個人\")\n",
    "print(f\"每個人平均被 {average_mentioned_by_per_person:.2f} 個人標註\")\n",
    "\n"
   ]
  },
  {
   "cell_type": "code",
   "execution_count": 324,
   "metadata": {},
   "outputs": [
    {
     "name": "stdout",
     "output_type": "stream",
     "text": [
      "在joyliao1116_241015_22_19.json 中\n",
      "共 19 筆資料,其中 2 筆資料為最後一層(5)未統計標註狀態\n",
      "雙向標註的比例: 36.00%\n",
      "單向標註的比例: 44.00%\n",
      "每個人平均標註 1.32 個人\n",
      "每個人平均被 1.32 個人標註\n",
      "被最多人標註的是: fgpc47th，他被標註 5 次。\n",
      "標註他的人有: fgpc47_we1lun, fgpc47_cjxx, fgpc47_s11yn, fgpc47_u7ao, fgpc47_1ych\n",
      "標註最多人的是: fgpc47th，他標註了 5 個人。\n",
      "他標註的人有: fgpc47_cjxx, fgpc47_s11yn, fgpc47_u7ao, fgpc47_1ych, fgpc47_da1in9\n"
     ]
    }
   ],
   "source": [
    "min_level = max([data[d].get('level',0) for d in data])\n",
    "print(f\"在{file_name} 中\")\n",
    "print(f\"共 {len(data)} 筆資料,其中 {len(['' for d in data if (data[d].get('level') == min_level)])} 筆資料為最後一層({min_level})未統計標註狀態\")\n",
    "print(f\"雙向標註的比例: {bidirectional_ratio:.2%}\")\n",
    "print(f\"單向標註的比例: {unidirectional_ratio:.2%}\")\n",
    "print(f\"每個人平均標註 {average_mentions_per_person:.2f} 個人\")\n",
    "print(f\"每個人平均被 {average_mentioned_by_per_person:.2f} 個人標註\")\n",
    "\n",
    "if max_mentioned_key:\n",
    "    mentioned_people = mentioned_by[max_mentioned_key]  # 提到此人的人\n",
    "    print(f\"被最多人標註的是: {max_mentioned_key}，他被標註 {max_mentioned_count} 次。\")\n",
    "    print(f\"標註他的人有: {', '.join(mentioned_people)}\")\n",
    "else:\n",
    "    print(\"找不到任何人。\")\n",
    "\n",
    "\n",
    "if max_key:\n",
    "    print(f\"標註最多人的是: {max_key}，他標註了 {max_count} 個人。\")\n",
    "    print(f\"他標註的人有: {(', '.join(max_content))}\")\n",
    "\n",
    "else:\n",
    "    print(\"找不到任何人。\")"
   ]
  }
 ],
 "metadata": {
  "kernelspec": {
   "display_name": "Python 3",
   "language": "python",
   "name": "python3"
  },
  "language_info": {
   "codemirror_mode": {
    "name": "ipython",
    "version": 3
   },
   "file_extension": ".py",
   "mimetype": "text/x-python",
   "name": "python",
   "nbconvert_exporter": "python",
   "pygments_lexer": "ipython3",
   "version": "3.10.10"
  }
 },
 "nbformat": 4,
 "nbformat_minor": 2
}
